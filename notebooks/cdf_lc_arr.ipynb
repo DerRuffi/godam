{
 "cells": [
  {
   "cell_type": "code",
   "execution_count": 93,
   "metadata": {},
   "outputs": [],
   "source": [
    "import math\n",
    "import numpy as np\n",
    "from random import randint, randrange, uniform\n",
    "from numba import jit, njit,prange, vectorize, cuda, guvectorize, float64"
   ]
  },
  {
   "cell_type": "code",
   "execution_count": 77,
   "metadata": {},
   "outputs": [],
   "source": [
    "issycodes = 5\n",
    "dig16codes = 12\n",
    "factors = 8\n",
    "elms = 4"
   ]
  },
  {
   "cell_type": "markdown",
   "metadata": {},
   "source": [
    "## cdf LC arrays"
   ]
  },
  {
   "cell_type": "code",
   "execution_count": 78,
   "metadata": {},
   "outputs": [],
   "source": [
    "arcr = np.full(shape=(dig16codes,factors),fill_value=-1,dtype=np.int32)\n",
    "arfac = np.zeros(shape=(dig16codes,factors),dtype=np.float32)"
   ]
  },
  {
   "cell_type": "code",
   "execution_count": 79,
   "metadata": {},
   "outputs": [
    {
     "data": {
      "text/plain": [
       "array([[-1, -1, -1, -1, -1, -1, -1, -1],\n",
       "       [ 3,  1,  4,  3,  0,  3, -1, -1],\n",
       "       [ 4,  2,  1,  4, -1, -1, -1, -1],\n",
       "       [ 3,  3,  0, -1, -1, -1, -1, -1],\n",
       "       [ 1,  1,  2, -1, -1, -1, -1, -1],\n",
       "       [ 3,  2, -1, -1, -1, -1, -1, -1],\n",
       "       [ 3,  4,  2,  0,  4,  4, -1, -1],\n",
       "       [ 0,  3,  2,  1,  2,  1, -1, -1],\n",
       "       [ 1,  4,  4,  1,  4, -1, -1, -1],\n",
       "       [ 0,  0,  4, -1, -1, -1, -1, -1],\n",
       "       [ 4,  2, -1, -1, -1, -1, -1, -1],\n",
       "       [ 2,  2,  0, -1, -1, -1, -1, -1]], dtype=int32)"
      ]
     },
     "execution_count": 79,
     "metadata": {},
     "output_type": "execute_result"
    }
   ],
   "source": [
    "for i in range(dig16codes):\n",
    "    no_lcs = randrange(factors)\n",
    "    for j in range(no_lcs):\n",
    "        arcr[i,j] = randrange(issycodes)# + 501\n",
    "        arfac[i,j] = uniform(-1.0, 1.5)\n",
    "arcr"
   ]
  },
  {
   "cell_type": "markdown",
   "metadata": {},
   "source": [
    "## fue array"
   ]
  },
  {
   "cell_type": "code",
   "execution_count": 84,
   "metadata": {},
   "outputs": [
    {
     "data": {
      "text/plain": [
       "array([[[73.64337 , 12.153724, 49.068592],\n",
       "        [92.32045 , 44.503586, 70.06611 ],\n",
       "        [76.33129 , 10.493861, 49.01697 ],\n",
       "        [12.466313, 21.686707, 91.93686 ]],\n",
       "\n",
       "       [[68.76658 , 10.826293, 92.23863 ],\n",
       "        [68.04789 , 39.838867, 59.31694 ],\n",
       "        [ 6.774627, 32.68123 , 40.111313],\n",
       "        [93.01114 , 60.631474, 85.88425 ]],\n",
       "\n",
       "       [[71.595535, 18.046595, 41.185318],\n",
       "        [95.03198 , 99.7255  , 57.62417 ],\n",
       "        [30.428331, 90.94328 , 98.33628 ],\n",
       "        [13.065786, 63.70038 , 94.773506]],\n",
       "\n",
       "       [[27.807035, 57.60954 , 29.14085 ],\n",
       "        [53.76022 , 68.63951 , 94.69003 ],\n",
       "        [58.081238, 27.800068, 55.312496],\n",
       "        [91.05415 , 18.249157, 84.992775]],\n",
       "\n",
       "       [[45.8591  , 17.654049, 95.74351 ],\n",
       "        [73.45729 , 79.8225  , 38.556572],\n",
       "        [98.19757 , 36.114574, 69.12599 ],\n",
       "        [19.32543 , 76.30962 , 98.7514  ]]], dtype=float32)"
      ]
     },
     "execution_count": 84,
     "metadata": {},
     "output_type": "execute_result"
    }
   ],
   "source": [
    "arfue =  np.random.rand(issycodes,elms,3).astype(np.float32) * 100\n",
    "arfue"
   ]
  },
  {
   "cell_type": "markdown",
   "metadata": {},
   "source": [
    "## numba array mult"
   ]
  },
  {
   "cell_type": "code",
   "execution_count": 85,
   "metadata": {},
   "outputs": [],
   "source": [
    "@njit\n",
    "def create_clc(arcr):\n",
    "    pass"
   ]
  },
  {
   "cell_type": "code",
   "execution_count": 96,
   "metadata": {},
   "outputs": [],
   "source": [
    "@vectorize([float64(float64, float64,float64, float64)])\n",
    "def transform2d(sx,sy,sxy,angle):\n",
    "    arad = math.radians(angle)\n",
    "    return (sx+sy)* 0.5 + (sx-sy) * 0.5 * math.cos(2*arad) + sxy * math.sin(2*arad)\n",
    "    "
   ]
  },
  {
   "cell_type": "code",
   "execution_count": 87,
   "metadata": {},
   "outputs": [
    {
     "data": {
      "text/plain": [
       "array([[92.32045 , 44.503586, 70.06611 ],\n",
       "       [68.04789 , 39.838867, 59.31694 ],\n",
       "       [95.03198 , 99.7255  , 57.62417 ],\n",
       "       [53.76022 , 68.63951 , 94.69003 ],\n",
       "       [73.45729 , 79.8225  , 38.556572]], dtype=float32)"
      ]
     },
     "execution_count": 87,
     "metadata": {},
     "output_type": "execute_result"
    }
   ],
   "source": [
    "ar_el = arfue[:,1,:]\n",
    "ar_el\n"
   ]
  },
  {
   "cell_type": "code",
   "execution_count": 98,
   "metadata": {},
   "outputs": [
    {
     "ename": "ValueError",
     "evalue": "invalid number of arguments",
     "output_type": "error",
     "traceback": [
      "\u001b[0;31m-------------------------------------------------------------------------\u001b[0m",
      "\u001b[0;31mValueError\u001b[0m                              Traceback (most recent call last)",
      "\u001b[0;32m<ipython-input-98-e83b795e35d3>\u001b[0m in \u001b[0;36m<module>\u001b[0;34m\u001b[0m\n\u001b[0;32m----> 1\u001b[0;31m \u001b[0mtransform2d\u001b[0m\u001b[0;34m(\u001b[0m\u001b[0mar_el\u001b[0m\u001b[0;34m,\u001b[0m\u001b[0;36m10\u001b[0m\u001b[0;34m)\u001b[0m\u001b[0;34m\u001b[0m\u001b[0;34m\u001b[0m\u001b[0m\n\u001b[0m",
      "\u001b[0;31mValueError\u001b[0m: invalid number of arguments"
     ]
    }
   ],
   "source": [
    "transform2d(ar_el,10)"
   ]
  },
  {
   "cell_type": "code",
   "execution_count": null,
   "metadata": {},
   "outputs": [],
   "source": []
  },
  {
   "cell_type": "code",
   "execution_count": null,
   "metadata": {},
   "outputs": [],
   "source": []
  },
  {
   "cell_type": "code",
   "execution_count": null,
   "metadata": {},
   "outputs": [],
   "source": []
  }
 ],
 "metadata": {
  "kernelspec": {
   "display_name": "Python 3",
   "language": "python",
   "name": "python3"
  },
  "language_info": {
   "codemirror_mode": {
    "name": "ipython",
    "version": 3
   },
   "file_extension": ".py",
   "mimetype": "text/x-python",
   "name": "python",
   "nbconvert_exporter": "python",
   "pygments_lexer": "ipython3",
   "version": "3.7.9"
  }
 },
 "nbformat": 4,
 "nbformat_minor": 4
}
