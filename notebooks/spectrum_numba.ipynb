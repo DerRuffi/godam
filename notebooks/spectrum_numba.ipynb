{
 "cells": [
  {
   "cell_type": "code",
   "execution_count": 12,
   "metadata": {},
   "outputs": [],
   "source": [
    "from random import randint, randrange\n",
    "import numpy as np\n",
    "from math import fabs\n",
    "from numba import jit, prange, njit, guvectorize, float32, int32, cuda"
   ]
  },
  {
   "cell_type": "code",
   "execution_count": 13,
   "metadata": {},
   "outputs": [
    {
     "name": "stdout",
     "output_type": "stream",
     "text": [
      "Object `cuda.local.array` not found.\n"
     ]
    }
   ],
   "source": [
    "?cuda.local.array"
   ]
  },
  {
   "cell_type": "code",
   "execution_count": 14,
   "metadata": {},
   "outputs": [],
   "source": [
    "angles = 10\n",
    "nofl = 100\n",
    "eventsperfl = 1000 #1000\n",
    "dig16codes = 7000 #7000\n",
    "elms = 10"
   ]
  },
  {
   "cell_type": "code",
   "execution_count": 15,
   "metadata": {},
   "outputs": [
    {
     "data": {
      "text/plain": [
       "(7000,)"
      ]
     },
     "execution_count": 15,
     "metadata": {},
     "output_type": "execute_result"
    }
   ],
   "source": [
    "ar162stress = np.random.rand(dig16codes,)\n",
    "data = np.random.rand(elms,dig16codes).astype(np.float32)\n",
    "ar162stress.shape"
   ]
  },
  {
   "cell_type": "code",
   "execution_count": 16,
   "metadata": {},
   "outputs": [],
   "source": [
    "@njit\n",
    "def createfldictjit():\n",
    "    d_fl2code16 = dict()\n",
    "    numberevents = 0\n",
    "    for fl in range(nofl):\n",
    "        events = randint(eventsperfl-200,eventsperfl+200)\n",
    "        numberevents += events\n",
    "        arfl = np.empty(shape=(events,),dtype=np.int32)\n",
    "        for event in range(events):\n",
    "            code16 = randrange(dig16codes)\n",
    "            arfl[event] = code16\n",
    "        d_fl2code16[fl] = arfl\n",
    "    return d_fl2code16"
   ]
  },
  {
   "cell_type": "code",
   "execution_count": 17,
   "metadata": {},
   "outputs": [],
   "source": [
    "d_fl2code16 = createfldictjit()"
   ]
  },
  {
   "cell_type": "code",
   "execution_count": 18,
   "metadata": {},
   "outputs": [],
   "source": [
    "def createfl():\n",
    "    fl_code16 = []\n",
    "    numberevents = 0\n",
    "    maxlength = 0\n",
    "    for fl in range(nofl):\n",
    "        events = randint(eventsperfl-300,eventsperfl+300)\n",
    "        if events > maxlength : maxlength = events\n",
    "        numberevents += events\n",
    "        arfl = np.empty(shape=(events,),dtype=np.int32)\n",
    "        for event in range(events):\n",
    "            code16 = randrange(dig16codes)\n",
    "            arfl[event] = code16\n",
    "        fl_code16.append(arfl)\n",
    "    return fl_code16, maxlength"
   ]
  },
  {
   "cell_type": "code",
   "execution_count": 19,
   "metadata": {},
   "outputs": [
    {
     "data": {
      "text/plain": [
       "1299"
      ]
     },
     "execution_count": 19,
     "metadata": {},
     "output_type": "execute_result"
    }
   ],
   "source": [
    "fl_code16, maxlength = createfl()\n",
    "maxlength"
   ]
  },
  {
   "cell_type": "code",
   "execution_count": 20,
   "metadata": {},
   "outputs": [],
   "source": [
    "def getfldefar(nofl,maxlength,fl_code16):\n",
    "    fldefar = np.full(shape=(nofl,maxlength),fill_value=-1,dtype=np.int32)\n",
    "    for i,ar in enumerate(fl_code16):\n",
    "        events = ar.shape[0]\n",
    "        fldefar[i,:events] = ar[:]\n",
    "    return fldefar\n",
    "fldefar = getfldefar(nofl,maxlength,fl_code16)"
   ]
  },
  {
   "cell_type": "code",
   "execution_count": 21,
   "metadata": {},
   "outputs": [
    {
     "data": {
      "text/plain": [
       "(100, 1299)"
      ]
     },
     "execution_count": 21,
     "metadata": {},
     "output_type": "execute_result"
    }
   ],
   "source": [
    "fldefar.shape"
   ]
  },
  {
   "cell_type": "code",
   "execution_count": 22,
   "metadata": {},
   "outputs": [],
   "source": [
    "@jit(nopython=True, fastmath=False)\n",
    "def reversalsnogen(series):\n",
    "    result = [np.float32(x) for x in range(0)]\n",
    "    series = iter(series)\n",
    "    x_last, x = next(series), next(series)\n",
    "    d_last = (x - x_last)\n",
    "    result.append(x_last)\n",
    "    for x_next in series:\n",
    "        if x_next == x:\n",
    "            continue\n",
    "        d_next = x_next - x\n",
    "        if d_last * d_next < 0:\n",
    "            result.append(x)\n",
    "        x_last, x = x, x_next\n",
    "        d_last = d_next\n",
    "    result.append(x_next)\n",
    "    return result"
   ]
  },
  {
   "cell_type": "code",
   "execution_count": 23,
   "metadata": {},
   "outputs": [],
   "source": [
    "@jit(nopython=True, fastmath=False)\n",
    "def find_rainflow_cycles(series):\n",
    "    revs = reversalsnogen(series)\n",
    "    result1 = [np.float32(x) for x in range(0)]\n",
    "    result2 = [np.float32(x) for x in range(0)]\n",
    "    residue = [np.float32(x) for x in range(0)]\n",
    "    len_residue = 0\n",
    "    for reversal in revs:\n",
    "        residue.append(reversal)\n",
    "        len_residue += 1\n",
    "        while len_residue >= 4:\n",
    "            S0, S1, S2, S3 = residue[-4], residue[-3], residue[-2], residue[-1]\n",
    "            dS1, dS2, dS3 = fabs(S1-S0), fabs(S2-S1), fabs(S3-S2)\n",
    "            if (dS2 <= dS1) and (dS2 <= dS3):\n",
    "                result1.append(S1)\n",
    "                result2.append(S2)\n",
    "                last = residue.pop()\n",
    "                residue.pop()\n",
    "                residue.pop()\n",
    "                residue.append(last)\n",
    "                len_residue -= 2\n",
    "            else:\n",
    "                break\n",
    "    return result1, result2"
   ]
  },
  {
   "cell_type": "code",
   "execution_count": 24,
   "metadata": {},
   "outputs": [],
   "source": [
    "@njit\n",
    "def mysum(mylist):\n",
    "    ll = len(mylist)\n",
    "    a = 0.\n",
    "    for i in range(ll):\n",
    "        a += mylist[i]\n",
    "    return a"
   ]
  },
  {
   "cell_type": "code",
   "execution_count": 25,
   "metadata": {},
   "outputs": [],
   "source": [
    "@njit\n",
    "def mysumarr(arr):\n",
    "    a = 0.\n",
    "    for i in range(arr.size):\n",
    "        a += arr[i]\n",
    "    return a"
   ]
  },
  {
   "cell_type": "code",
   "execution_count": 26,
   "metadata": {},
   "outputs": [],
   "source": [
    "@jit(nopython=True, fastmath=False)\n",
    "def mapcode16(arfl, ar162stress):\n",
    "    height = arfl.shape[0]\n",
    "    res = []\n",
    "    for i in range(height):\n",
    "        code16 = arfl[i]\n",
    "        if code16 == -1:\n",
    "            break\n",
    "        stress = ar162stress[code16]\n",
    "        res.append(stress)\n",
    "    return res"
   ]
  },
  {
   "cell_type": "code",
   "execution_count": 27,
   "metadata": {},
   "outputs": [],
   "source": [
    "@jit(nopython=True, fastmath=False)\n",
    "def mapcode16a(arfl, ar162stress):\n",
    "    height = arfl.shape[0]\n",
    "    for i in range(height):\n",
    "        code16 = arfl[i]\n",
    "        if code16 == -1:\n",
    "            break\n",
    "        stress = ar162stress[code16]\n",
    "        arfl[i] = stress\n",
    "    return arfl"
   ]
  },
  {
   "cell_type": "code",
   "execution_count": 28,
   "metadata": {},
   "outputs": [
    {
     "data": {
      "text/plain": [
       "<function len(obj, /)>"
      ]
     },
     "execution_count": 28,
     "metadata": {},
     "output_type": "execute_result"
    }
   ],
   "source": [
    "m1 = mapcode16a(fldefar[0],ar162stress)\n",
    "len"
   ]
  },
  {
   "cell_type": "code",
   "execution_count": 68,
   "metadata": {},
   "outputs": [],
   "source": [
    "@jit(nopython=True, fastmath=False, parallel=True)\n",
    "def iterflights(angles,ar162stress,d_fl2code16):\n",
    "    res = 0.0\n",
    "    for angle in prange(angles):\n",
    "        for arfl in d_fl2code16.values():\n",
    "            serfl = mapcode16(arfl, ar162stress)\n",
    "            r1,r2 = find_rainflow_cycles(serfl)\n",
    "            res += mysum(r1)\n",
    "    return res"
   ]
  },
  {
   "cell_type": "code",
   "execution_count": 69,
   "metadata": {},
   "outputs": [
    {
     "data": {
      "text/plain": [
       "160166.90226313518"
      ]
     },
     "execution_count": 69,
     "metadata": {},
     "output_type": "execute_result"
    }
   ],
   "source": [
    "iterflights(angles,ar162stress,d_fl2code16)"
   ]
  },
  {
   "cell_type": "code",
   "execution_count": 71,
   "metadata": {},
   "outputs": [
    {
     "name": "stdout",
     "output_type": "stream",
     "text": [
      "25.6 ms ± 893 µs per loop (mean ± std. dev. of 7 runs, 10 loops each)\n"
     ]
    }
   ],
   "source": [
    "%timeit iterflights(angles,ar162stress,d_fl2code16)"
   ]
  },
  {
   "cell_type": "code",
   "execution_count": 62,
   "metadata": {},
   "outputs": [],
   "source": [
    "@jit(nopython=True, fastmath=False, parallel=True)\n",
    "def iterflightsar(angles,ar162stress,arfls):\n",
    "    flights = arfls.shape[0]\n",
    "    res = 0.0\n",
    "    for angle in prange(angles):\n",
    "        for fl in prange(flights):\n",
    "            arfl = arfls[fl]\n",
    "            serfl = mapcode16(arfl, ar162stress)\n",
    "            r1,r2 = find_rainflow_cycles(serfl)\n",
    "            res += mysum(r1)\n",
    "    return res"
   ]
  },
  {
   "cell_type": "code",
   "execution_count": 63,
   "metadata": {},
   "outputs": [
    {
     "name": "stdout",
     "output_type": "stream",
     "text": [
      "CPU times: user 942 ms, sys: 7.85 ms, total: 950 ms\n",
      "Wall time: 892 ms\n"
     ]
    },
    {
     "data": {
      "text/plain": [
       "161285.1149598107"
      ]
     },
     "execution_count": 63,
     "metadata": {},
     "output_type": "execute_result"
    }
   ],
   "source": [
    "%time iterflightsar(angles,ar162stress,fldefar)"
   ]
  },
  {
   "cell_type": "code",
   "execution_count": 59,
   "metadata": {},
   "outputs": [
    {
     "name": "stdout",
     "output_type": "stream",
     "text": [
      "58.3 ms ± 32.2 µs per loop (mean ± std. dev. of 7 runs, 10 loops each)\n"
     ]
    }
   ],
   "source": [
    "%timeit iterflightsar(angles,ar162stress,fldefar)"
   ]
  },
  {
   "cell_type": "code",
   "execution_count": 35,
   "metadata": {},
   "outputs": [],
   "source": [
    "@guvectorize([(float32[:], float32[:])], \"(n) -> ()\", target=\"parallel\", nopython=True)\n",
    "def genseq(x, output) :\n",
    "    d_fl2code16 = createfldictjit()\n",
    "    output[0] = iterflights(angles,ar162stress,d_fl2code16)"
   ]
  },
  {
   "cell_type": "code",
   "execution_count": 36,
   "metadata": {},
   "outputs": [
    {
     "name": "stdout",
     "output_type": "stream",
     "text": [
      "193 ms ± 4.21 ms per loop (mean ± std. dev. of 7 runs, 10 loops each)\n"
     ]
    }
   ],
   "source": [
    "%timeit genseq(data)"
   ]
  },
  {
   "cell_type": "code",
   "execution_count": 37,
   "metadata": {},
   "outputs": [
    {
     "data": {
      "text/plain": [
       "array([157710.23, 158461.98, 160061.4 , 160075.12, 165105.45, 160696.8 ,\n",
       "       163772.6 , 157017.72, 161864.03, 163102.23], dtype=float32)"
      ]
     },
     "execution_count": 37,
     "metadata": {},
     "output_type": "execute_result"
    }
   ],
   "source": [
    "genseq(data)"
   ]
  },
  {
   "cell_type": "markdown",
   "metadata": {},
   "source": [
    "## flightdef array"
   ]
  },
  {
   "cell_type": "code",
   "execution_count": 38,
   "metadata": {},
   "outputs": [],
   "source": [
    "@jit(nopython=True, fastmath=False, parallel=True)\n",
    "def iterflights2(angles,ardig16,arfls):\n",
    "    flights = arfls.shape[0]\n",
    "    dam = 0.0\n",
    "    for angle in prange(angles):\n",
    "        for fl in prange(flights):\n",
    "            arfl = arfls[fl]\n",
    "            serfl = mapcode16(arfl,ardig16)\n",
    "            r1,r2 = find_rainflow_cycles(serfl)\n",
    "            dam += mysum(r1)\n",
    "    return dam"
   ]
  },
  {
   "cell_type": "code",
   "execution_count": 39,
   "metadata": {},
   "outputs": [],
   "source": [
    "@jit(nopython=True,parallel=True)\n",
    "def genseq2(arst,arfls,angles):\n",
    "    elms = arst.shape[0]\n",
    "    lendig16 = arst.shape[1]\n",
    "    flights = arfls.shape[0]\n",
    "    #events = arfls.shape[1]\n",
    "    res = []\n",
    "    for elm in prange(elms):\n",
    "        #dam = 0.0\n",
    "        ardig16 = arst[elm]\n",
    "        dam = iterflights2(angles,ardig16,arfls)\n",
    "        res.append(dam)\n",
    "    return res"
   ]
  },
  {
   "cell_type": "code",
   "execution_count": 40,
   "metadata": {},
   "outputs": [
    {
     "name": "stdout",
     "output_type": "stream",
     "text": [
      "216 ms ± 12.4 ms per loop (mean ± std. dev. of 7 runs, 1 loop each)\n"
     ]
    }
   ],
   "source": [
    "%timeit genseq2(data,fldefar,angles)"
   ]
  },
  {
   "cell_type": "code",
   "execution_count": 41,
   "metadata": {},
   "outputs": [
    {
     "data": {
      "text/plain": [
       "[163269.2997799837,\n",
       " 164688.97303545562,\n",
       " 163131.5433344175,\n",
       " 165067.22486244747,\n",
       " 162299.466434856,\n",
       " 159950.58050184074,\n",
       " 165165.1988693088,\n",
       " 164902.98677915707,\n",
       " 162554.23110819538,\n",
       " 163494.25863193872]"
      ]
     },
     "execution_count": 41,
     "metadata": {},
     "output_type": "execute_result"
    }
   ],
   "source": [
    "genseq2(data,fldefar,angles)"
   ]
  },
  {
   "cell_type": "markdown",
   "metadata": {},
   "source": [
    "## flightdef guvec"
   ]
  },
  {
   "cell_type": "code",
   "execution_count": 42,
   "metadata": {},
   "outputs": [],
   "source": [
    "@guvectorize([(float32[:,:], int32[:,:], float32[:])], \"(elms,dig16),(fls,sqc) -> (elms)\", target=\"parallel\", nopython=True)\n",
    "def genseq3(arst,arfls, output):\n",
    "    elms = arst.shape[0]\n",
    "    ardig16 = arst.shape[0]\n",
    "    #flights = arfls.shape[0]\n",
    "    sqc = arfls.shape[0]\n",
    "    for elm in range(elms):\n",
    "        ardig16 = arst[elm]\n",
    "        dam = iterflights2(10,ardig16,arfls)\n",
    "        output[elm] = dam"
   ]
  },
  {
   "cell_type": "code",
   "execution_count": 43,
   "metadata": {},
   "outputs": [
    {
     "name": "stdout",
     "output_type": "stream",
     "text": [
      "263 ms ± 14.1 ms per loop (mean ± std. dev. of 7 runs, 1 loop each)\n"
     ]
    }
   ],
   "source": [
    "%timeit genseq3(data,fldefar)"
   ]
  },
  {
   "cell_type": "code",
   "execution_count": 44,
   "metadata": {},
   "outputs": [
    {
     "data": {
      "text/plain": [
       "array([163131.55, 159950.58, 164902.98, 165165.2 , 162554.23, 163494.27,\n",
       "       163269.3 , 162299.47, 164688.97, 165067.22], dtype=float32)"
      ]
     },
     "execution_count": 44,
     "metadata": {},
     "output_type": "execute_result"
    }
   ],
   "source": [
    "genseq3(data,fldefar)"
   ]
  },
  {
   "cell_type": "code",
   "execution_count": null,
   "metadata": {},
   "outputs": [],
   "source": []
  }
 ],
 "metadata": {
  "kernelspec": {
   "display_name": "Python 3",
   "language": "python",
   "name": "python3"
  },
  "language_info": {
   "codemirror_mode": {
    "name": "ipython",
    "version": 3
   },
   "file_extension": ".py",
   "mimetype": "text/x-python",
   "name": "python",
   "nbconvert_exporter": "python",
   "pygments_lexer": "ipython3",
   "version": "3.7.9"
  }
 },
 "nbformat": 4,
 "nbformat_minor": 4
}
