{
 "cells": [
  {
   "cell_type": "code",
   "execution_count": 1,
   "metadata": {},
   "outputs": [],
   "source": [
    "import time\n",
    "import numpy as np\n",
    "import dask.array as da"
   ]
  },
  {
   "cell_type": "code",
   "execution_count": 2,
   "metadata": {},
   "outputs": [],
   "source": [
    "def maxpo(s):\n",
    "    #sx,sy,sxy = v[0],v[1],v[2]\n",
    "    return (s[0]+s[1]) / 2 + (((s[0]-s[1])/2)**2 + s[2] ** 2) ** 0.5\n",
    "def minpo(s):\n",
    "    #sx,sy,sxy = v[0],v[1],v[2]\n",
    "    return (s[0]+s[1]) / 2 - (((s[0]-s[1])/2)**2 + s[2] ** 2) ** 0.5"
   ]
  },
  {
   "cell_type": "code",
   "execution_count": 3,
   "metadata": {},
   "outputs": [],
   "source": [
    "def maxp(s):\n",
    "    #sx,sy,sxy = v[0],v[1],v[2]\n",
    "    return (s[:,0]+s[:,1]) / 2 + (((s[:,0]-s[:,1])/2)**2 + s[:,2] ** 2) ** 0.5\n",
    "def minp(s):\n",
    "    #sx,sy,sxy = v[0],v[1],v[2]\n",
    "    return (s[:,0]+s[:,1]) / 2 - (((s[:,0]-s[:,1])/2)**2 + s[:,2] ** 2) ** 0.5"
   ]
  },
  {
   "cell_type": "markdown",
   "metadata": {},
   "source": [
    "## Variables"
   ]
  },
  {
   "cell_type": "code",
   "execution_count": 5,
   "metadata": {},
   "outputs": [],
   "source": [
    "unilcs = 300\n",
    "elms = 100000\n",
    "clcs = 20\n",
    "np.random.seed(0)"
   ]
  },
  {
   "cell_type": "markdown",
   "metadata": {},
   "source": [
    "## Numpy"
   ]
  },
  {
   "cell_type": "code",
   "execution_count": 6,
   "metadata": {},
   "outputs": [
    {
     "name": "stdout",
     "output_type": "stream",
     "text": [
      "(300, 100000, 3)\n",
      "float64\n"
     ]
    }
   ],
   "source": [
    "ar123 = np.random.random((unilcs,elms,3))#.astype(np.float32)\n",
    "arlc = np.random.random((unilcs,clcs))\n",
    "print(ar123.shape)\n",
    "print(ar123.dtype)"
   ]
  },
  {
   "cell_type": "code",
   "execution_count": 7,
   "metadata": {},
   "outputs": [],
   "source": [
    "ar123t = ar123.T"
   ]
  },
  {
   "cell_type": "code",
   "execution_count": 8,
   "metadata": {},
   "outputs": [
    {
     "name": "stdout",
     "output_type": "stream",
     "text": [
      "Time multi = 1.6310899257659912\n"
     ]
    }
   ],
   "source": [
    "start = time.time()\n",
    "res_t = ar123t.dot(arlc)\n",
    "print(\"Time multi = %s\" % (time.time() - start))"
   ]
  },
  {
   "cell_type": "code",
   "execution_count": 9,
   "metadata": {},
   "outputs": [],
   "source": [
    "ar = res_t.T"
   ]
  },
  {
   "cell_type": "code",
   "execution_count": 10,
   "metadata": {},
   "outputs": [],
   "source": [
    "#amaxp = np.apply_along_axis(maxpo,-1,ar)\n",
    "#aminp = np.apply_along_axis(minpo,-1,ar)"
   ]
  },
  {
   "cell_type": "code",
   "execution_count": 11,
   "metadata": {},
   "outputs": [
    {
     "name": "stdout",
     "output_type": "stream",
     "text": [
      "Time maxP = 0.19830894470214844\n"
     ]
    }
   ],
   "source": [
    "start = time.time()\n",
    "amaxabs = np.zeros(shape=(clcs,elms))\n",
    "for i in range(clcs):\n",
    "    #amaxp = np.apply_along_axis(maxpo,-1,ar[i])\n",
    "    #aminp = np.apply_along_axis(minpo,-1,ar[i])\n",
    "    amaxp, aminp = maxp(ar[i]), minp(ar[i])\n",
    "    x1, x2 = abs(amaxp), abs(aminp)\n",
    "    amaxabs[i] = np.maximum.reduce([x1,x2])\n",
    "print(\"Time maxP = %s\" % (time.time() - start))"
   ]
  },
  {
   "cell_type": "code",
   "execution_count": 12,
   "metadata": {},
   "outputs": [],
   "source": [
    "index = np.argmax(amaxabs, axis=0)"
   ]
  },
  {
   "cell_type": "code",
   "execution_count": 13,
   "metadata": {},
   "outputs": [],
   "source": [
    "x = np.indices(index.shape)"
   ]
  },
  {
   "cell_type": "code",
   "execution_count": 14,
   "metadata": {},
   "outputs": [],
   "source": [
    "ar2 = ar[index,x]"
   ]
  },
  {
   "cell_type": "markdown",
   "metadata": {},
   "source": [
    "## dask"
   ]
  },
  {
   "cell_type": "code",
   "execution_count": 6,
   "metadata": {},
   "outputs": [],
   "source": [
    "chunksize = 10000"
   ]
  },
  {
   "cell_type": "code",
   "execution_count": 7,
   "metadata": {},
   "outputs": [],
   "source": [
    "ar123 = da.random.random((unilcs,elms,3),chunks=(unilcs, chunksize,3))\n",
    "arlc = da.random.random((unilcs,clcs))"
   ]
  },
  {
   "cell_type": "code",
   "execution_count": 8,
   "metadata": {},
   "outputs": [],
   "source": [
    "ar123t = ar123.T"
   ]
  },
  {
   "cell_type": "code",
   "execution_count": 9,
   "metadata": {},
   "outputs": [
    {
     "name": "stdout",
     "output_type": "stream",
     "text": [
      "Time multi = 102.86254978179932\n"
     ]
    }
   ],
   "source": [
    "start = time.time()\n",
    "res_t = ar123t.dot(arlc).compute()\n",
    "print(\"Time multi = %s\" % (time.time() - start))"
   ]
  },
  {
   "cell_type": "code",
   "execution_count": 10,
   "metadata": {},
   "outputs": [],
   "source": [
    "ar = res_t.T"
   ]
  },
  {
   "cell_type": "code",
   "execution_count": 11,
   "metadata": {},
   "outputs": [
    {
     "name": "stdout",
     "output_type": "stream",
     "text": [
      "Time maxP = 19.97642683982849\n"
     ]
    }
   ],
   "source": [
    "start = time.time()\n",
    "data_abs = []\n",
    "for i in range(clcs):\n",
    "    #chlen = ar[i].chunksize[0]\n",
    "    #amaxp = np.apply_along_axis(maxpo,-1,ar[i], dtype=ar[i].dtype, shape=(chlen,)).compute()\n",
    "    #aminp = np.apply_along_axis(minpo,-1,ar[i], dtype=ar[i].dtype, shape=(chlen,)).compute()\n",
    "    amaxp, aminp = maxp(ar[i]), minp(ar[i])\n",
    "    #print(time.time() - start, \"step1\")\n",
    "    x1, x2 = abs(amaxp), abs(aminp)\n",
    "    #print(time.time() - start, \"step2\")\n",
    "    # x1, x2 = npo.asarray(abs(amaxp)), npo.asarray(abs(aminp))\n",
    "    x1x2max = np.maximum(x1,x2)\n",
    "    #print(time.time() - start, \"step3\")\n",
    "    data_abs.append(x1x2max)\n",
    "    #print(time.time() - start, \"step4\")\n",
    "amaxabs = np.stack(data_abs, axis=0)\n",
    "print(\"Time maxP = %s\" % (time.time() - start))"
   ]
  },
  {
   "cell_type": "code",
   "execution_count": 12,
   "metadata": {},
   "outputs": [],
   "source": [
    "index = np.argmax(amaxabs, axis=0)\n",
    "#indexd = da.from_array(index)\n",
    "#indexd"
   ]
  },
  {
   "cell_type": "code",
   "execution_count": 13,
   "metadata": {},
   "outputs": [],
   "source": [
    "x = np.indices(index.shape)"
   ]
  },
  {
   "cell_type": "code",
   "execution_count": 17,
   "metadata": {},
   "outputs": [
    {
     "data": {
      "text/plain": [
       "(1, 10000000, 3)"
      ]
     },
     "execution_count": 17,
     "metadata": {},
     "output_type": "execute_result"
    }
   ],
   "source": [
    "ar[index,x].shape"
   ]
  },
  {
   "cell_type": "code",
   "execution_count": null,
   "metadata": {},
   "outputs": [],
   "source": []
  }
 ],
 "metadata": {
  "kernelspec": {
   "display_name": "Python 3",
   "language": "python",
   "name": "python3"
  },
  "language_info": {
   "codemirror_mode": {
    "name": "ipython",
    "version": 3
   },
   "file_extension": ".py",
   "mimetype": "text/x-python",
   "name": "python",
   "nbconvert_exporter": "python",
   "pygments_lexer": "ipython3",
   "version": "3.7.9"
  }
 },
 "nbformat": 4,
 "nbformat_minor": 4
}
