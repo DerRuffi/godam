{
 "cells": [
  {
   "cell_type": "code",
   "execution_count": 43,
   "metadata": {
    "id": "qYSIRb49WRT7"
   },
   "outputs": [],
   "source": [
    "from random import randint, randrange\n",
    "import numpy as np\n",
    "import math\n",
    "from math import fabs\n",
    "from numba import jit, njit,prange, vectorize, cuda, guvectorize,int32,float32, uint16"
   ]
  },
  {
   "cell_type": "code",
   "execution_count": 44,
   "metadata": {
    "id": "j9VJ03D4W6WE"
   },
   "outputs": [],
   "source": [
    "#!find / -iname 'libdevice'\n",
    "#!find / -iname 'libnvvm.so'"
   ]
  },
  {
   "cell_type": "code",
   "execution_count": 45,
   "metadata": {
    "id": "ePhAwQgD1hMl"
   },
   "outputs": [],
   "source": [
    "import os\n",
    "os.environ['NUMBAPRO_LIBDEVICE'] = \"/usr/local/cuda-10.1/nvvm/libdevice\"\n",
    "os.environ['NUMBAPRO_NVVM'] = \"/usr/local/cuda-10.1/nvvm/lib64/libnvvm.so\""
   ]
  },
  {
   "cell_type": "code",
   "execution_count": 46,
   "metadata": {
    "id": "WucaZU-o11oD"
   },
   "outputs": [],
   "source": [
    "angles = 18\n",
    "nofl = 1\n",
    "eventsperfl = 100\n",
    "dig16codes = 70\n",
    "elms = 2\n",
    "TPB = 16\n",
    "blocks_per_grid = 64"
   ]
  },
  {
   "cell_type": "code",
   "execution_count": 47,
   "metadata": {
    "id": "gpSjypl0REmB"
   },
   "outputs": [],
   "source": [
    "ar162stress = np.random.rand(dig16codes,)\n",
    "data = np.random.rand(elms,dig16codes).astype(np.float32)"
   ]
  },
  {
   "cell_type": "code",
   "execution_count": 48,
   "metadata": {
    "id": "is8vmU5qDSr3"
   },
   "outputs": [],
   "source": [
    "def createfl():\n",
    "    fl_code16 = []\n",
    "    numberevents = 0\n",
    "    maxlength = 0\n",
    "    for fl in range(nofl):\n",
    "        events = randint(eventsperfl-3,eventsperfl+3)\n",
    "        if events > maxlength : maxlength = events\n",
    "        numberevents += events\n",
    "        arfl = np.empty(shape=(events,),dtype=np.int32)\n",
    "        for event in range(events):\n",
    "            code16 = randrange(dig16codes)\n",
    "            arfl[event] = code16\n",
    "        fl_code16.append(arfl)\n",
    "    return fl_code16, maxlength\n",
    "fl_code16, maxlength = createfl()"
   ]
  },
  {
   "cell_type": "code",
   "execution_count": 49,
   "metadata": {
    "colab": {
     "base_uri": "https://localhost:8080/"
    },
    "id": "gByOFslWDc1n",
    "outputId": "4b77dd7d-10ac-4790-979b-efb1acee0991"
   },
   "outputs": [
    {
     "data": {
      "text/plain": [
       "(1, 97)"
      ]
     },
     "execution_count": 49,
     "metadata": {},
     "output_type": "execute_result"
    }
   ],
   "source": [
    "def getfldefar(nofl,maxlength,fl_code16):\n",
    "    fldefar = np.full(shape=(nofl,maxlength),fill_value=-1,dtype=np.int32)\n",
    "    for i,ar in enumerate(fl_code16):\n",
    "        events = ar.shape[0]\n",
    "        fldefar[i,:events] = ar[:]\n",
    "    return fldefar\n",
    "fldefar = getfldefar(nofl,maxlength,fl_code16)\n",
    "fldefar.shape"
   ]
  },
  {
   "cell_type": "code",
   "execution_count": 50,
   "metadata": {
    "id": "5tDS-91RRINc"
   },
   "outputs": [],
   "source": [
    "@cuda.jit(device=True)\n",
    "def reversals(arfl,sth):\n",
    "    fl_len = arfl.shape[0]\n",
    "    j = 0\n",
    "    x, x_last, d_next, d_last = 0.0, 0.0, 0.0, 0.0\n",
    "    for i in range(fl_len):\n",
    "        code16 = arfl[i]\n",
    "        if code16 == -1:\n",
    "          break\n",
    "        x_next = sth[i]\n",
    "        if i == 0:\n",
    "          x_last = x_next\n",
    "          continue\n",
    "        if i == 1:\n",
    "          x = x_next\n",
    "          d_last = x - x_last\n",
    "          sth[0] = x_last\n",
    "          j += 1\n",
    "        d_next = x_next - x\n",
    "        if d_last * d_next < 0.0:\n",
    "          sth[j] = x\n",
    "          j += 1\n",
    "        x_last = x\n",
    "        x = x_next\n",
    "        d_last = d_next\n",
    "    sth[j] = x\n",
    "    j += 1\n",
    "    return sth, j"
   ]
  },
  {
   "cell_type": "code",
   "execution_count": 51,
   "metadata": {
    "id": "6x5JEjxkRKXV"
   },
   "outputs": [],
   "source": [
    "@cuda.jit(device=True)\n",
    "def find_rainflow_cycles(series):\n",
    "    revs = reversals(series)\n",
    "    result1 = [np.float32(x) for x in range(0)]\n",
    "    result2 = [np.float32(x) for x in range(0)]\n",
    "    residue = [np.float32(x) for x in range(0)]\n",
    "    len_residue = 0\n",
    "    for reversal in revs:\n",
    "        residue.append(reversal)\n",
    "        len_residue += 1\n",
    "        while len_residue >= 4:\n",
    "            S0, S1, S2, S3 = residue[-4], residue[-3], residue[-2], residue[-1]\n",
    "            dS1, dS2, dS3 = fabs(S1-S0), fabs(S2-S1), fabs(S3-S2)\n",
    "            if (dS2 <= dS1) and (dS2 <= dS3):\n",
    "                result1.append(S1)\n",
    "                result2.append(S2)\n",
    "                last = residue.pop()\n",
    "                residue.pop()\n",
    "                residue.pop()\n",
    "                residue.append(last)\n",
    "                len_residue -= 2\n",
    "            else:\n",
    "                break\n",
    "    return result1, result2"
   ]
  },
  {
   "cell_type": "code",
   "execution_count": 52,
   "metadata": {
    "id": "OcoOm2koF4Jj"
   },
   "outputs": [],
   "source": [
    "@cuda.jit(device=True)\n",
    "def getstress(ar162stress,code16):\n",
    "    stress = ar162stress[code16]\n",
    "    return stress"
   ]
  },
  {
   "cell_type": "code",
   "execution_count": 53,
   "metadata": {
    "id": "5fXz70s1Nt5o"
   },
   "outputs": [],
   "source": [
    "@cuda.jit(device=True)\n",
    "def iterflights(angles,ar162stress,arfls,sa_in,tx):\n",
    "    flights = arfls.shape[0]\n",
    "    #sth = cuda.local.array(shape=2000,dtype=float32)\n",
    "    dam = 0.0\n",
    "    for angle in range(angles):\n",
    "        for fl in range(flights):\n",
    "            arfl = arfls[fl]\n",
    "            fl_len = arfl.shape[0]\n",
    "            #start reversals\n",
    "            j = 0\n",
    "            #sa_ind = 0\n",
    "            code16 = 0\n",
    "            #lenps = 1\n",
    "            x, x_last, d_next, d_last = 0.0, 0.0, 0.0, 0.0\n",
    "            for i in range(fl_len):\n",
    "                code16next = arfl[i]\n",
    "                if code16next == -1:\n",
    "                    break\n",
    "                x_next = getstress(ar162stress,code16next)\n",
    "                if i == 0:\n",
    "                    x_last = x_next\n",
    "                    code16last = code16next\n",
    "                    continue\n",
    "                if i == 1:\n",
    "                    x = x_next\n",
    "                    code16 = code16next\n",
    "                    d_last = x - x_last\n",
    "                    sa_in[tx,0] = code16last # j= 0\n",
    "                    #sth[0] = x_last\n",
    "                    j += 1\n",
    "                    continue\n",
    "                d_next = x_next - x\n",
    "                d_mul = d_last * d_next\n",
    "                if (d_mul < 0.0) or (i == fl_len-1):\n",
    "                    # start rainflow\n",
    "                    #sth[j] = x\n",
    "                    if d_mul < 0.0:\n",
    "                        sa_in[tx,j] = code16\n",
    "                    if i == fl_len-1:\n",
    "                        if d_mul < 0.0:\n",
    "                            j += 1\n",
    "                        sa_in[tx,j] = code16next\n",
    "                    #lenps += 1\n",
    "                    while j > 3:\n",
    "                        ix0,ix1 = sa_in[tx,j-3],sa_in[tx,j-2]\n",
    "                        ix2 = sa_in[tx,j-1]\n",
    "                        s0 = getstress(ar162stress,ix0)\n",
    "                        s1 = getstress(ar162stress,ix1)\n",
    "                        s2 = getstress(ar162stress,ix2)\n",
    "                        s3 = x\n",
    "                        dS1, dS2, dS3 = fabs(s1-s0), fabs(s2-s1), fabs(s3-s2)\n",
    "                        if (dS2 <= dS1) and (dS2 <= dS3):\n",
    "                            dam += s1 + s2\n",
    "                            sa_in[tx,j-3] = code16\n",
    "                            j -= 2\n",
    "                            #lenps -= 2\n",
    "                        else:\n",
    "                            break\n",
    "                    # end rainflow\n",
    "                    j += 1\n",
    "                x_last = x\n",
    "                x = x_next\n",
    "                d_last = d_next\n",
    "                code16 = code16next\n",
    "            #sth[j] = x\n",
    "            #j += 1\n",
    "            k = 0\n",
    "            while j > 4:\n",
    "                ix0, ix1 = sa_in[tx,k], sa_in[tx,k+1]\n",
    "                s0 = getstress(ar162stress,ix0)\n",
    "                s1 = getstress(ar162stress,ix1)\n",
    "                dam += s0 + s1\n",
    "                j -= 2\n",
    "                k += 2\n",
    "            #end reversals\n",
    "            # end flight\n",
    "    return dam"
   ]
  },
  {
   "cell_type": "code",
   "execution_count": 64,
   "metadata": {
    "id": "5XBTdaP5NCNO"
   },
   "outputs": [],
   "source": [
    "@cuda.jit\n",
    "def genseq1dsa(arst,arfls,angles,out):\n",
    "    noelms = arst.shape[0]\n",
    "    #maxev = arfls.shape[1]\n",
    "    #TPB = cuda.blockDim\n",
    "    rf_index = cuda.shared.array(shape=(16, 1000), dtype=uint16)\n",
    "    pos = cuda.grid(1)\n",
    "    stride = cuda.gridsize(1)\n",
    "    tx = cuda.threadIdx.x\n",
    "    if pos < noelms:\n",
    "        ar162stress = arst[pos]\n",
    "        dam = iterflights(angles,ar162stress,arfls,rf_index,tx)\n",
    "        #sth_sa[tx,0] = 1.\n",
    "        out[pos] = dam\n",
    "        #cuda.syncthreads()"
   ]
  },
  {
   "cell_type": "code",
   "execution_count": 65,
   "metadata": {
    "colab": {
     "base_uri": "https://localhost:8080/",
     "height": 352
    },
    "id": "2BAHEibtC7D2",
    "outputId": "f6ba18d7-1fc3-439a-ee0a-8a182da467b4"
   },
   "outputs": [
    {
     "data": {
      "text/plain": [
       "(2, 70)"
      ]
     },
     "execution_count": 65,
     "metadata": {},
     "output_type": "execute_result"
    }
   ],
   "source": [
    "arst_device = cuda.to_device(data)\n",
    "fldef_device = cuda.to_device(fldefar)\n",
    "arst_device.shape"
   ]
  },
  {
   "cell_type": "code",
   "execution_count": 66,
   "metadata": {
    "id": "pIbHeJVIDBCi"
   },
   "outputs": [
    {
     "data": {
      "text/plain": [
       "(2)"
      ]
     },
     "execution_count": 66,
     "metadata": {},
     "output_type": "execute_result"
    }
   ],
   "source": [
    "out_device = cuda.device_array(shape=(elms,), dtype=np.float32)\n",
    "out_device.shape"
   ]
  },
  {
   "cell_type": "code",
   "execution_count": 67,
   "metadata": {
    "id": "tdNqglGyL5l4"
   },
   "outputs": [
    {
     "name": "stdout",
     "output_type": "stream",
     "text": [
      "CPU times: user 1.85 s, sys: 64.8 ms, total: 1.91 s\n",
      "Wall time: 1.89 s\n"
     ]
    }
   ],
   "source": [
    "%%time\n",
    "threads_per_block = 16\n",
    "blocks_per_grid = 64\n",
    "genseq1dsa[blocks_per_grid, threads_per_block](arst_device,fldef_device,angles,out_device)\n",
    "\n",
    "out = out_device.copy_to_host()"
   ]
  },
  {
   "cell_type": "code",
   "execution_count": 68,
   "metadata": {
    "id": "TP66DvtvhaLr"
   },
   "outputs": [
    {
     "data": {
      "text/plain": [
       "array([579.96234, 447.5969 ], dtype=float32)"
      ]
     },
     "execution_count": 68,
     "metadata": {},
     "output_type": "execute_result"
    }
   ],
   "source": [
    "out"
   ]
  },
  {
   "cell_type": "code",
   "execution_count": 69,
   "metadata": {},
   "outputs": [
    {
     "name": "stdout",
     "output_type": "stream",
     "text": [
      "0\n",
      "2\n",
      "4\n",
      "6\n",
      "8\n"
     ]
    }
   ],
   "source": [
    "for i in range(0,10,2):\n",
    "    print(i)"
   ]
  },
  {
   "cell_type": "code",
   "execution_count": 70,
   "metadata": {},
   "outputs": [
    {
     "data": {
      "text/plain": [
       "64000"
      ]
     },
     "execution_count": 70,
     "metadata": {},
     "output_type": "execute_result"
    }
   ],
   "source": [
    "np.zeros(shape=(32, 500), dtype=np.float32).nbytes"
   ]
  },
  {
   "cell_type": "markdown",
   "metadata": {},
   "source": [
    "## test float shared array"
   ]
  },
  {
   "cell_type": "code",
   "execution_count": 71,
   "metadata": {},
   "outputs": [],
   "source": [
    "@cuda.jit(device=True)\n",
    "def iterflights2(angles,ar162stress,arfls,sa_in,tx):\n",
    "    flights = arfls.shape[0]\n",
    "    #sth = cuda.local.array(shape=2000,dtype=float32)\n",
    "    dam = 0.0\n",
    "    for angle in range(angles):\n",
    "        for fl in range(flights):\n",
    "            arfl = arfls[fl]\n",
    "            fl_len = arfl.shape[0]\n",
    "            #start reversals\n",
    "            j = 0\n",
    "            #sa_ind = 0\n",
    "            code16 = 0\n",
    "            #lenps = 1\n",
    "            x, x_last, d_next, d_last = 0.0, 0.0, 0.0, 0.0\n",
    "            for i in range(fl_len):\n",
    "                x_next = arfl[i]\n",
    "                dam += x_next\n",
    "    return dam"
   ]
  },
  {
   "cell_type": "code",
   "execution_count": 83,
   "metadata": {},
   "outputs": [],
   "source": [
    "@cuda.jit\n",
    "def genseq1dsafloat(arst,arfls,angles,out):\n",
    "    height = arst.shape[0]\n",
    "    maxev = arfls.shape[1]\n",
    "    #TPB = cuda.blockDim\n",
    "    sa_float = cuda.shared.array(shape=(TPB, 400), dtype=float32)\n",
    "    pos = cuda.grid(1)\n",
    "    tx = cuda.threadIdx.x\n",
    "    if pos < height:\n",
    "        sa_float[tx,0:dig16codes] = arst[pos,:]\n",
    "        print(arst[pos,:])\n",
    "        dam = iterflights2(angles,ar162stress,arfls,sa_float,tx)\n",
    "        #sth_sa[tx,0] = 1.\n",
    "        out[pos] = dam\n",
    "        #cuda.syncthreads()"
   ]
  },
  {
   "cell_type": "code",
   "execution_count": 84,
   "metadata": {},
   "outputs": [
    {
     "name": "stdout",
     "output_type": "stream",
     "text": [
      "<numba.cuda.simulator.cudadrv.devicearray.FakeWithinKernelCUDAArray object at 0x7f0c58021690>\n",
      "<numba.cuda.simulator.cudadrv.devicearray.FakeWithinKernelCUDAArray object at 0x7f0c5801ccd0>\n"
     ]
    }
   ],
   "source": [
    "genseq1dsafloat[blocks_per_grid, TPB](arst_device,fldef_device,angles,out_device)\n",
    "\n",
    "out = out_device.copy_to_host()"
   ]
  },
  {
   "cell_type": "code",
   "execution_count": 80,
   "metadata": {},
   "outputs": [
    {
     "data": {
      "text/plain": [
       "array([0.30695653, 0.93903923, 0.7480402 , 0.2463979 , 0.54415905,\n",
       "       0.56764317, 0.6969538 , 0.38104752, 0.62823594, 0.41107342,\n",
       "       0.2230039 , 0.98501354, 0.14190213, 0.14087997, 0.9267583 ,\n",
       "       0.03186223, 0.7166828 , 0.46855736, 0.7798468 , 0.7792983 ,\n",
       "       0.49968502, 0.04472446, 0.10498572, 0.8900595 , 0.02351243,\n",
       "       0.74466616, 0.48601314, 0.34843686, 0.8180687 , 0.31792614,\n",
       "       0.6319939 , 0.801381  , 0.5703511 , 0.81168556, 0.5426711 ,\n",
       "       0.22536607, 0.30370837, 0.17861907, 0.2527725 , 0.11529436,\n",
       "       0.902883  , 0.53485674, 0.09669375, 0.8205226 , 0.24087733,\n",
       "       0.8466535 , 0.9553601 , 0.01155773, 0.4592039 , 0.96196616,\n",
       "       0.61130697, 0.4569382 , 0.51847094, 0.5913354 , 0.909069  ,\n",
       "       0.9400851 , 0.22177139, 0.92203   , 0.62475055, 0.8744145 ,\n",
       "       0.8844379 , 0.6734675 , 0.7462614 , 0.18068717, 0.34972283,\n",
       "       0.58447665, 0.04109824, 0.3980274 , 0.52793413, 0.5740573 ],\n",
       "      dtype=float32)"
      ]
     },
     "execution_count": 80,
     "metadata": {},
     "output_type": "execute_result"
    }
   ],
   "source": [
    "data[0]"
   ]
  },
  {
   "cell_type": "code",
   "execution_count": null,
   "metadata": {},
   "outputs": [],
   "source": []
  }
 ],
 "metadata": {
  "accelerator": "GPU",
  "colab": {
   "collapsed_sections": [],
   "name": "spectra_cuda.ipynb",
   "provenance": []
  },
  "kernelspec": {
   "display_name": "Python 3",
   "language": "python",
   "name": "python3"
  },
  "language_info": {
   "codemirror_mode": {
    "name": "ipython",
    "version": 3
   },
   "file_extension": ".py",
   "mimetype": "text/x-python",
   "name": "python",
   "nbconvert_exporter": "python",
   "pygments_lexer": "ipython3",
   "version": "3.7.9"
  }
 },
 "nbformat": 4,
 "nbformat_minor": 4
}
